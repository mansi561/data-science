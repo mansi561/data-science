{
 "cells": [
  {
   "cell_type": "code",
   "execution_count": 2,
   "metadata": {},
   "outputs": [],
   "source": [
    "pip install quandl"
   ]
  },
  {
   "cell_type": "code",
   "execution_count": null,
   "metadata": {},
   "outputs": [
    {
     "ename": "",
     "evalue": "",
     "output_type": "error",
     "traceback": [
      "\u001b[1;31mRunning cells with 'c:\\Users\\Shree\\AppData\\Local\\Programs\\Python\\Python310\\python.exe' requires the ipykernel package.\n",
      "\u001b[1;31mRun the following command to install 'ipykernel' into the Python environment. \n",
      "\u001b[1;31mCommand: 'c:/Users/Shree/AppData/Local/Programs/Python/Python310/python.exe -m pip install ipykernel -U --user --force-reinstall'"
     ]
    }
   ],
   "source": [
    "import quandl\n",
    "import pandas as pd\n",
    "import numpy as np\n",
    "import matplotlib.pyplot as plt\n",
    "%matplotlib inline"
   ]
  },
  {
   "cell_type": "code",
   "execution_count": 1,
   "metadata": {},
   "outputs": [
    {
     "ename": "NameError",
     "evalue": "name 'quandl' is not defined",
     "output_type": "error",
     "traceback": [
      "\u001b[1;31m---------------------------------------------------------------------------\u001b[0m",
      "\u001b[1;31mNameError\u001b[0m                                 Traceback (most recent call last)",
      "Cell \u001b[1;32mIn[1], line 1\u001b[0m\n\u001b[1;32m----> 1\u001b[0m quandl\u001b[39m.\u001b[39mApiConfig\u001b[39m.\u001b[39mapi_key \u001b[39m=\u001b[39m \u001b[39m\"\u001b[39m\u001b[39myour_api_key_here\u001b[39m\u001b[39m\"\u001b[39m\n",
      "\u001b[1;31mNameError\u001b[0m: name 'quandl' is not defined"
     ]
    }
   ],
   "source": [
    "quandl.ApiConfig.api_key = \"CA04682P1018\""
   ]
  },
  {
   "cell_type": "code",
   "execution_count": null,
   "metadata": {},
   "outputs": [],
   "source": [
    "aapl_data = quandl.get(\"EOD/AAPL\", start_date=\"2010-01-01\", end_date=\"2022-02-01\")\n",
    "msft_data = quandl.get(\"EOD/MSFT\", start_date=\"2010-01-01\", end_date=\"2022-02-01\")\n",
    "goog_data = quandl.get(\"EOD/GOOGL\", start_date=\"2010-01-01\", end_date=\"2022-02-01\")\n",
    "amzn_data = quandl.get(\"EOD/AMZN\", start_date=\"2010-01-01\", end_date=\"2022-02-01\")"
   ]
  },
  {
   "cell_type": "code",
   "execution_count": null,
   "metadata": {},
   "outputs": [],
   "source": [
    "aapl_data.fillna(method='ffill', inplace=True)\n",
    "msft_data.fillna(method='ffill', inplace=True)\n",
    "goog_data.fillna(method='ffill', inplace=True)\n",
    "amzn_data.fillna(method='ffill', inplace=True)"
   ]
  },
  {
   "cell_type": "code",
   "execution_count": null,
   "metadata": {},
   "outputs": [],
   "source": [
    "plt.plot(aapl_data['Close'], label='Apple')\n",
    "plt.plot(msft_data['Close'], label='Microsoft')\n",
    "plt.plot(goog_data['Close'], label='Google')\n",
    "plt.plot(amzn_data['Close'], label='Amazon')\n",
    "plt.legend()\n",
    "plt.title('Stock Prices Over Time')\n",
    "plt.xlabel('Date')\n",
    "plt.ylabel('Closing Price')\n",
    "plt.show()"
   ]
  },
  {
   "cell_type": "code",
   "execution_count": null,
   "metadata": {},
   "outputs": [],
   "source": [
    "from statsmodels.tsa.arima_model import ARIMA\n",
    "\n",
    "\n",
    "train_data, test_data = aapl_data[:int(len(aapl_data)*0.8)], aapl_data[int(len(aapl_data)*0.8):]\n",
    "train_arima = train_data['Close'].values\n",
    "test_arima = test_data['Close'].values"
   ]
  }
 ],
 "metadata": {
  "kernelspec": {
   "display_name": "Python 3",
   "language": "python",
   "name": "python3"
  },
  "language_info": {
   "codemirror_mode": {
    "name": "ipython",
    "version": 3
   },
   "file_extension": ".py",
   "mimetype": "text/x-python",
   "name": "python",
   "nbconvert_exporter": "python",
   "pygments_lexer": "ipython3",
   "version": "3.10.8"
  },
  "orig_nbformat": 4,
  "vscode": {
   "interpreter": {
    "hash": "dd8436c68afc888420b3703c49ca922db44305ae1051a3719f61808582a02992"
   }
  }
 },
 "nbformat": 4,
 "nbformat_minor": 2
}
